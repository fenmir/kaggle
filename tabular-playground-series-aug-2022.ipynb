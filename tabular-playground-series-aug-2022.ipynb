{
 "cells": [
  {
   "cell_type": "code",
   "execution_count": 1,
   "id": "9db6703e",
   "metadata": {
    "_cell_guid": "b1076dfc-b9ad-4769-8c92-a6c4dae69d19",
    "_uuid": "8f2839f25d086af736a60e9eeb907d3b93b6e0e5",
    "execution": {
     "iopub.execute_input": "2022-08-13T09:34:05.555743Z",
     "iopub.status.busy": "2022-08-13T09:34:05.554806Z",
     "iopub.status.idle": "2022-08-13T09:34:05.570166Z",
     "shell.execute_reply": "2022-08-13T09:34:05.568984Z"
    },
    "papermill": {
     "duration": 0.022826,
     "end_time": "2022-08-13T09:34:05.572763",
     "exception": false,
     "start_time": "2022-08-13T09:34:05.549937",
     "status": "completed"
    },
    "tags": []
   },
   "outputs": [
    {
     "name": "stdout",
     "output_type": "stream",
     "text": [
      "/kaggle/input/tabular-playground-series-aug-2022/sample_submission.csv\n",
      "/kaggle/input/tabular-playground-series-aug-2022/train.csv\n",
      "/kaggle/input/tabular-playground-series-aug-2022/test.csv\n"
     ]
    }
   ],
   "source": [
    "# This Python 3 environment comes with many helpful analytics libraries installed\n",
    "# It is defined by the kaggle/python Docker image: https://github.com/kaggle/docker-python\n",
    "# For example, here's several helpful packages to load\n",
    "\n",
    "import numpy as np # linear algebra\n",
    "import pandas as pd # data processing, CSV file I/O (e.g. pd.read_csv)\n",
    "\n",
    "# Input data files are available in the read-only \"../input/\" directory\n",
    "# For example, running this (by clicking run or pressing Shift+Enter) will list all files under the input directory\n",
    "\n",
    "import os\n",
    "for dirname, _, filenames in os.walk('/kaggle/input'):\n",
    "    for filename in filenames:\n",
    "        print(os.path.join(dirname, filename))\n",
    "\n",
    "# You can write up to 20GB to the current directory (/kaggle/working/) that gets preserved as output when you create a version using \"Save & Run All\" \n",
    "# You can also write temporary files to /kaggle/temp/, but they won't be saved outside of the current session"
   ]
  },
  {
   "cell_type": "code",
   "execution_count": 2,
   "id": "a7aadcd7",
   "metadata": {
    "execution": {
     "iopub.execute_input": "2022-08-13T09:34:05.579462Z",
     "iopub.status.busy": "2022-08-13T09:34:05.578604Z",
     "iopub.status.idle": "2022-08-13T09:34:07.153850Z",
     "shell.execute_reply": "2022-08-13T09:34:07.152431Z"
    },
    "papermill": {
     "duration": 1.58116,
     "end_time": "2022-08-13T09:34:07.156562",
     "exception": false,
     "start_time": "2022-08-13T09:34:05.575402",
     "status": "completed"
    },
    "tags": []
   },
   "outputs": [],
   "source": [
    "df_train = pd.read_csv('/kaggle/input/tabular-playground-series-aug-2022/train.csv')\n",
    "df_test = pd.read_csv('/kaggle/input/tabular-playground-series-aug-2022/test.csv')\n",
    "\n",
    "df_train['df_train'] = 1\n",
    "df_test['df_train'] = 0\n",
    "df_test['failure'] = np.nan\n",
    "df = pd.concat([df_train, df_test], axis = 0)\n",
    "\n",
    "df = pd.get_dummies(df)\n",
    "\n",
    "from sklearn.impute import SimpleImputer\n",
    "imp_mean = SimpleImputer(missing_values=np.nan, strategy='mean')\n",
    "df_value = imp_mean.fit_transform(df)\n",
    "df = pd.DataFrame(data = df_value, columns = df.columns)\n",
    "\n",
    "df_train = df.loc[df['df_train'] == 1, :].drop(columns = ['df_train'], axis=1)\n",
    "df_test = df.loc[df['df_train'] == 0, :].drop(columns = ['df_train', 'failure'], axis=1)\n"
   ]
  },
  {
   "cell_type": "code",
   "execution_count": 3,
   "id": "d00e54fc",
   "metadata": {
    "execution": {
     "iopub.execute_input": "2022-08-13T09:34:07.162583Z",
     "iopub.status.busy": "2022-08-13T09:34:07.162215Z",
     "iopub.status.idle": "2022-08-13T09:34:18.472249Z",
     "shell.execute_reply": "2022-08-13T09:34:18.470997Z"
    },
    "papermill": {
     "duration": 11.315835,
     "end_time": "2022-08-13T09:34:18.474789",
     "exception": false,
     "start_time": "2022-08-13T09:34:07.158954",
     "status": "completed"
    },
    "tags": []
   },
   "outputs": [
    {
     "name": "stdout",
     "output_type": "stream",
     "text": [
      "0.8007150922092585\n"
     ]
    }
   ],
   "source": [
    "from sklearn.model_selection import train_test_split\n",
    "\n",
    "X = df_train.loc[:, df_train.columns != 'failure']\n",
    "y = df_train['failure']\n",
    "\n",
    "X_train, X_test, y_train, y_test = train_test_split(\n",
    "    X, y, test_size=0.20, random_state=42)\n",
    "\n",
    "from sklearn.ensemble import RandomForestClassifier\n",
    "\n",
    "clf = RandomForestClassifier()\n",
    "clf.fit(X_train, y_train)\n",
    "print(clf.score(X_test, y_test))"
   ]
  },
  {
   "cell_type": "code",
   "execution_count": 4,
   "id": "3956ce5c",
   "metadata": {
    "execution": {
     "iopub.execute_input": "2022-08-13T09:34:18.482450Z",
     "iopub.status.busy": "2022-08-13T09:34:18.482097Z",
     "iopub.status.idle": "2022-08-13T09:34:18.991103Z",
     "shell.execute_reply": "2022-08-13T09:34:18.990090Z"
    },
    "papermill": {
     "duration": 0.515381,
     "end_time": "2022-08-13T09:34:18.993663",
     "exception": false,
     "start_time": "2022-08-13T09:34:18.478282",
     "status": "completed"
    },
    "tags": []
   },
   "outputs": [],
   "source": [
    "result = clf.predict_proba(df_test)[:, 1]\n",
    "my_submission = pd.DataFrame({'id': df_test.id.astype('int32'), 'failure': result})\n",
    "# you could use any filename. We choose submission here\n",
    "my_submission.to_csv('submission.csv', index=False)"
   ]
  },
  {
   "cell_type": "code",
   "execution_count": 5,
   "id": "864bcb4e",
   "metadata": {
    "execution": {
     "iopub.execute_input": "2022-08-13T09:34:19.000645Z",
     "iopub.status.busy": "2022-08-13T09:34:18.999781Z",
     "iopub.status.idle": "2022-08-13T09:34:19.020059Z",
     "shell.execute_reply": "2022-08-13T09:34:19.019098Z"
    },
    "papermill": {
     "duration": 0.02643,
     "end_time": "2022-08-13T09:34:19.022644",
     "exception": false,
     "start_time": "2022-08-13T09:34:18.996214",
     "status": "completed"
    },
    "tags": []
   },
   "outputs": [
    {
     "data": {
      "text/html": [
       "<div>\n",
       "<style scoped>\n",
       "    .dataframe tbody tr th:only-of-type {\n",
       "        vertical-align: middle;\n",
       "    }\n",
       "\n",
       "    .dataframe tbody tr th {\n",
       "        vertical-align: top;\n",
       "    }\n",
       "\n",
       "    .dataframe thead th {\n",
       "        text-align: right;\n",
       "    }\n",
       "</style>\n",
       "<table border=\"1\" class=\"dataframe\">\n",
       "  <thead>\n",
       "    <tr style=\"text-align: right;\">\n",
       "      <th></th>\n",
       "      <th>id</th>\n",
       "      <th>failure</th>\n",
       "    </tr>\n",
       "  </thead>\n",
       "  <tbody>\n",
       "    <tr>\n",
       "      <th>26570</th>\n",
       "      <td>26570</td>\n",
       "      <td>0.30</td>\n",
       "    </tr>\n",
       "    <tr>\n",
       "      <th>26571</th>\n",
       "      <td>26571</td>\n",
       "      <td>0.25</td>\n",
       "    </tr>\n",
       "    <tr>\n",
       "      <th>26572</th>\n",
       "      <td>26572</td>\n",
       "      <td>0.23</td>\n",
       "    </tr>\n",
       "    <tr>\n",
       "      <th>26573</th>\n",
       "      <td>26573</td>\n",
       "      <td>0.28</td>\n",
       "    </tr>\n",
       "    <tr>\n",
       "      <th>26574</th>\n",
       "      <td>26574</td>\n",
       "      <td>0.36</td>\n",
       "    </tr>\n",
       "    <tr>\n",
       "      <th>...</th>\n",
       "      <td>...</td>\n",
       "      <td>...</td>\n",
       "    </tr>\n",
       "    <tr>\n",
       "      <th>47340</th>\n",
       "      <td>47340</td>\n",
       "      <td>0.27</td>\n",
       "    </tr>\n",
       "    <tr>\n",
       "      <th>47341</th>\n",
       "      <td>47341</td>\n",
       "      <td>0.21</td>\n",
       "    </tr>\n",
       "    <tr>\n",
       "      <th>47342</th>\n",
       "      <td>47342</td>\n",
       "      <td>0.20</td>\n",
       "    </tr>\n",
       "    <tr>\n",
       "      <th>47343</th>\n",
       "      <td>47343</td>\n",
       "      <td>0.32</td>\n",
       "    </tr>\n",
       "    <tr>\n",
       "      <th>47344</th>\n",
       "      <td>47344</td>\n",
       "      <td>0.16</td>\n",
       "    </tr>\n",
       "  </tbody>\n",
       "</table>\n",
       "<p>20775 rows × 2 columns</p>\n",
       "</div>"
      ],
      "text/plain": [
       "          id  failure\n",
       "26570  26570     0.30\n",
       "26571  26571     0.25\n",
       "26572  26572     0.23\n",
       "26573  26573     0.28\n",
       "26574  26574     0.36\n",
       "...      ...      ...\n",
       "47340  47340     0.27\n",
       "47341  47341     0.21\n",
       "47342  47342     0.20\n",
       "47343  47343     0.32\n",
       "47344  47344     0.16\n",
       "\n",
       "[20775 rows x 2 columns]"
      ]
     },
     "execution_count": 5,
     "metadata": {},
     "output_type": "execute_result"
    }
   ],
   "source": [
    "my_submission"
   ]
  }
 ],
 "metadata": {
  "kernelspec": {
   "display_name": "Python 3",
   "language": "python",
   "name": "python3"
  },
  "language_info": {
   "codemirror_mode": {
    "name": "ipython",
    "version": 3
   },
   "file_extension": ".py",
   "mimetype": "text/x-python",
   "name": "python",
   "nbconvert_exporter": "python",
   "pygments_lexer": "ipython3",
   "version": "3.7.12"
  },
  "papermill": {
   "default_parameters": {},
   "duration": 22.897165,
   "end_time": "2022-08-13T09:34:19.746569",
   "environment_variables": {},
   "exception": null,
   "input_path": "__notebook__.ipynb",
   "output_path": "__notebook__.ipynb",
   "parameters": {},
   "start_time": "2022-08-13T09:33:56.849404",
   "version": "2.3.4"
  }
 },
 "nbformat": 4,
 "nbformat_minor": 5
}
